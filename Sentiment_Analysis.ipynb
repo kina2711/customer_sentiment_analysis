{
 "cells": [
  {
   "cell_type": "code",
   "execution_count": 3,
   "id": "3352987c180a8501",
   "metadata": {
    "ExecuteTime": {
     "end_time": "2024-04-26T16:26:16.855072700Z",
     "start_time": "2024-04-26T16:26:16.725907Z"
    },
    "collapsed": false
   },
   "outputs": [],
   "source": [
    "# conda install pytorch torchvision -c pytorch"
   ]
  },
  {
   "cell_type": "code",
   "execution_count": null,
   "id": "initial_id",
   "metadata": {
    "ExecuteTime": {
     "end_time": "2024-04-29T02:35:49.634739200Z",
     "start_time": "2024-04-29T02:35:43.724927500Z"
    },
    "collapsed": true
   },
   "outputs": [],
   "source": [
    "import numpy as np\n",
    "import pandas as pd\n",
    "import torch\n",
    "import re\n",
    "\n",
    "from transformers import AutoModel, AutoTokenizer, RobertaForSequenceClassification"
   ]
  },
  {
   "cell_type": "code",
   "execution_count": null,
   "id": "4f5a2bf1ed8f0db6",
   "metadata": {
    "ExecuteTime": {
     "end_time": "2024-04-29T02:35:54.214824700Z",
     "start_time": "2024-04-29T02:35:49.635771100Z"
    },
    "collapsed": false
   },
   "outputs": [],
   "source": [
    "df = pd.read_csv(r\"C:\\2024\\DA\\Project\\[Project 4] Sentiment Analysis\\mongodb_comments.csv\")\n",
    "\n",
    "df"
   ]
  },
  {
   "cell_type": "code",
   "execution_count": null,
   "id": "7ef160d686e89c12",
   "metadata": {
    "ExecuteTime": {
     "end_time": "2024-04-29T02:35:54.419247300Z",
     "start_time": "2024-04-29T02:35:54.210525900Z"
    },
    "collapsed": false
   },
   "outputs": [],
   "source": [
    "df.info()"
   ]
  },
  {
   "cell_type": "code",
   "execution_count": 11,
   "id": "269bb201688ce2e6",
   "metadata": {
    "ExecuteTime": {
     "end_time": "2024-04-26T16:29:53.473595700Z",
     "start_time": "2024-04-26T16:29:53.469538700Z"
    },
    "collapsed": false
   },
   "outputs": [],
   "source": [
    "def get_id_text(text):\n",
    "    result = re.findall(r\"\\'\\$oid\\'\\:\\s*\\'([^\\']+)\\'\", text)[0]\n",
    "    \n",
    "    return result"
   ]
  },
  {
   "cell_type": "code",
   "execution_count": null,
   "id": "3fa72b10312c3c0a",
   "metadata": {
    "ExecuteTime": {
     "end_time": "2024-04-26T16:29:54.006920500Z",
     "start_time": "2024-04-26T16:29:53.474606400Z"
    },
    "collapsed": false
   },
   "outputs": [],
   "source": [
    "# Xử lý cột _id\n",
    "df['_id'] = df['_id'].apply(get_id_text)\n",
    "\n",
    "df['_id']"
   ]
  },
  {
   "cell_type": "code",
   "execution_count": null,
   "id": "588194a478e75af",
   "metadata": {
    "ExecuteTime": {
     "end_time": "2024-04-26T16:31:09.801395Z",
     "start_time": "2024-04-26T16:31:09.758668Z"
    },
    "collapsed": false
   },
   "outputs": [],
   "source": [
    "# Chọn ra các cột cần lấy để phân tích\n",
    "df = df[['_id', 'user_id', 'comment_on', 'object_id', 'content', 'device', 'timestamp']]\n",
    "\n",
    "df"
   ]
  },
  {
   "cell_type": "markdown",
   "id": "4ad9f62786ce9ef5",
   "metadata": {
    "collapsed": false
   },
   "source": [
    "## Pre-Process Data"
   ]
  },
  {
   "cell_type": "code",
   "execution_count": null,
   "id": "bdbecf2fabd4741",
   "metadata": {
    "ExecuteTime": {
     "end_time": "2024-04-26T16:51:03.940771200Z",
     "start_time": "2024-04-26T16:51:03.934740100Z"
    },
    "collapsed": false
   },
   "outputs": [],
   "source": [
    "test = \"\"\"\n",
    "Phim quá hay luôn...mong từng tập!\n",
    "\"\"\"\n",
    "\n",
    "def standardize_data(row):\n",
    "    # Viết thường toàn bộ\n",
    "    row = row.lower()\n",
    "    \n",
    "    # Xoá tất cả các dấu ?, !, . ở cuối câu\n",
    "    row = re.sub(r'[?!\\.]+\\s*$', '', row)\n",
    "    \n",
    "    # Bỏ đi các dấu khng được cho phép\n",
    "    row = row.replace(\",\", \" \").replace(\".\", \" \") \\\n",
    "        .replace(\";\", \" \").replace(\"“\", \" \") \\\n",
    "        .replace(\":\", \" \").replace(\"”\", \" \") \\\n",
    "        .replace('\"', \" \").replace(\"'\", \" \") \\\n",
    "        .replace(\"!\", \" \").replace(\"?\", \" \") \\\n",
    "        .replace(\"-\", \" \").replace(\"?\", \" \") \\\n",
    "        .replace('\\\\', ' ').replace(')', ' ').replace('(', ' ').replace('@', ' ')\n",
    "    \n",
    "    # Thay thế 1 số từ viết tắt trong tiếng việt\n",
    "    row = re.sub('ko', 'không ', row)\n",
    "    row = re.sub('k ', 'không ', row)\n",
    "    row = re.sub('ad', 'admin ', row)\n",
    "    row = re.sub('[dđ]c', 'được ', row)\n",
    "    row = re.sub('thúi', 'thối ', row)\n",
    "    row = re.sub('chuong trinh', 'chương trình ', row)\n",
    "    row = re.sub('qua', 'quá ', row)\n",
    "    row = re.sub(\"vn\",\"việt nam\", row)\n",
    "    row = re.sub(\"roi\",\"rồi\", row)\n",
    "    \n",
    "    # Loại bỏ các dấu cách thừa\n",
    "    row = re.sub(r'\\s+', ' ', row).strip()\n",
    "    \n",
    "    return row\n",
    "\n",
    "# standardize câu test\n",
    "print(standardize_data(test))"
   ]
  },
  {
   "cell_type": "code",
   "execution_count": null,
   "id": "f04cb075f9bc4427",
   "metadata": {
    "ExecuteTime": {
     "end_time": "2024-04-26T16:52:24.606306600Z",
     "start_time": "2024-04-26T16:52:16.756518700Z"
    },
    "collapsed": false
   },
   "outputs": [],
   "source": [
    "# Chuyển cột content về dạng string\n",
    "df['content'] = df['content'].astype(str)\n",
    "\n",
    "# Tiến hành apply hàm standardize_data => sau có thời gian bổ sung sửa thêm các từ viết tắt\n",
    "df['content_std'] = df['content'].apply(standardize_data)\n",
    "\n",
    "df"
   ]
  },
  {
   "cell_type": "code",
   "execution_count": null,
   "id": "d020765cc4767b5b",
   "metadata": {
    "ExecuteTime": {
     "end_time": "2024-04-26T16:54:28.377706800Z",
     "start_time": "2024-04-26T16:53:56.432588200Z"
    },
    "collapsed": false
   },
   "outputs": [],
   "source": [
    "# load pre trained model\n",
    "model = RobertaForSequenceClassification.from_pretrained(\"wonrax/phobert-base-vietnamese-sentiment\")\n",
    "\n",
    "# load Tokenizer từ model (dùng để tách từ trong câu)\n",
    "tokenizer = AutoTokenizer.from_pretrained(\"wonrax/phobert-base-vietnamese-sentiment\", use_fast=False)"
   ]
  },
  {
   "cell_type": "code",
   "execution_count": null,
   "id": "791fbc79850bca6",
   "metadata": {
    "ExecuteTime": {
     "end_time": "2024-04-26T16:55:21.095064200Z",
     "start_time": "2024-04-26T16:55:20.493156600Z"
    },
    "collapsed": false
   },
   "outputs": [],
   "source": [
    "# test câu\n",
    "sentence = 'cũng được'\n",
    "\n",
    "# tách câu thành list từng từ\n",
    "input_ids = torch.tensor([tokenizer.encode(sentence)])\n",
    "\n",
    "with torch.no_grad():\n",
    "    out = model(input_ids)\n",
    "    # predict output bằng pretrained model\n",
    "    out = pd.Series(out.logits.softmax(dim=-1).tolist()[0], index= ['NEG', 'POS', 'NEU'])\n",
    "    print(out)"
   ]
  },
  {
   "cell_type": "code",
   "execution_count": null,
   "id": "86cc337110620262",
   "metadata": {
    "ExecuteTime": {
     "end_time": "2024-04-26T16:57:52.489587200Z",
     "start_time": "2024-04-26T16:57:52.454001300Z"
    },
    "collapsed": false
   },
   "outputs": [],
   "source": [
    "# hàm để đánh giá từng comment. 0 là tiêu cực, 1 là tích cực, 2 là trung tính hoặc ko thể xác định\n",
    "def sentiment(sentence):\n",
    "    try:\n",
    "        input_ids = torch.tensor([tokenizer.encode(sentence)])\n",
    "    except:\n",
    "        return 2\n",
    "\n",
    "    if input_ids.shape[1] > tokenizer.model_max_length:\n",
    "        return 2\n",
    "\n",
    "    with torch.no_grad():\n",
    "        out = model(input_ids)\n",
    "        return np.argmax(out.logits.softmax(dim=-1).tolist()[0])\n",
    "\n",
    "print(sentiment(sentence))"
   ]
  },
  {
   "cell_type": "code",
   "execution_count": null,
   "id": "4c3834a7ccc10461",
   "metadata": {
    "ExecuteTime": {
     "end_time": "2024-04-26T16:59:40.174635100Z",
     "start_time": "2024-04-26T16:59:11.804167600Z"
    },
    "collapsed": false
   },
   "outputs": [],
   "source": [
    "# kiểm tra xem mô hình chạy bao thời gian\n",
    "import time\n",
    "\n",
    "start_time = time.time()\n",
    "\n",
    "test = df[:999]\n",
    "\n",
    "test['sentiment'] = test['content_std'].apply(sentiment)\n",
    "\n",
    "test"
   ]
  },
  {
   "cell_type": "code",
   "execution_count": null,
   "id": "8bc163e22631d0ca",
   "metadata": {
    "ExecuteTime": {
     "end_time": "2024-04-26T23:20:15.451896900Z",
     "start_time": "2024-04-26T17:00:32.933831Z"
    },
    "collapsed": false
   },
   "outputs": [],
   "source": [
    "# chạy thật và tính ra sentiment\n",
    "df['sentiment'] = df['content_std'].apply(sentiment)\n",
    "\n",
    "df"
   ]
  },
  {
   "cell_type": "code",
   "execution_count": 55,
   "id": "3688566ff04fa378",
   "metadata": {
    "ExecuteTime": {
     "end_time": "2024-04-27T00:12:37.787959900Z",
     "start_time": "2024-04-27T00:12:34.681838500Z"
    },
    "collapsed": false
   },
   "outputs": [],
   "source": [
    "df.to_csv(r'C:\\2024\\DA\\Project\\[Project 4] Sentiment Analysis\\Sentiment_Result.csv', index=False, encoding='utf-8')"
   ]
  }
 ],
 "metadata": {
  "kernelspec": {
   "display_name": "Python 3",
   "language": "python",
   "name": "python3"
  },
  "language_info": {
   "codemirror_mode": {
    "name": "ipython",
    "version": 3
   },
   "file_extension": ".py",
   "mimetype": "text/x-python",
   "name": "python",
   "nbconvert_exporter": "python",
   "pygments_lexer": "ipython3",
   "version": "3.12.5"
  }
 },
 "nbformat": 4,
 "nbformat_minor": 5
}
